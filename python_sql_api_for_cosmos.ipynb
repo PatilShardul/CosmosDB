{
  "cells": [
    {
      "cell_type": "markdown",
      "source": [
        "# import azure.cosmos library \n"
      ],
      "metadata": {
        "nteract": {
          "transient": {
            "deleting": false
          }
        }
      },
      "id": "0ad3eb3a-287a-4189-bb73-b15fe5ee2a73"
    },
    {
      "cell_type": "code",
      "source": [
        "from azure.cosmos import exceptions, CosmosClient, PartitionKey"
      ],
      "outputs": [],
      "execution_count": 3,
      "metadata": {
        "collapsed": true,
        "execution": {
          "iopub.execute_input": "2021-02-19T03:26:40.365Z",
          "iopub.status.busy": "2021-02-19T03:26:40.346Z",
          "iopub.status.idle": "2021-02-19T03:26:40.376Z",
          "shell.execute_reply": "2021-02-19T03:26:40.383Z"
        },
        "jupyter": {
          "outputs_hidden": false,
          "source_hidden": false
        },
        "nteract": {
          "transient": {
            "deleting": false
          }
        },
        "trusted": true
      },
      "id": "ae09876e-b0c6-4cee-b6e9-04d578eaa331"
    },
    {
      "cell_type": "code",
      "source": [],
      "outputs": [],
      "execution_count": null,
      "metadata": {
        "collapsed": true,
        "jupyter": {
          "source_hidden": false,
          "outputs_hidden": false
        },
        "nteract": {
          "transient": {
            "deleting": false
          }
        }
      },
      "id": "54e9f572-b8d9-475f-80a8-f575e3a1fd56"
    },
    {
      "cell_type": "markdown",
      "source": [
        "# Connect to cosmosclient"
      ],
      "metadata": {
        "nteract": {
          "transient": {
            "deleting": false
          }
        }
      },
      "id": "aa20151f-8890-4927-bf23-05407cad551a"
    },
    {
      "cell_type": "code",
      "source": [
        "endpoint=\"https://cosmosdbmanagementaccount.documents.azure.com:443/\"\n",
        "key=\"2dMYDLqvuve6YKERsWxv8ks0bzgUeJ3Z3mPDX0hpTGdWabxKCNQyC5Lw2VmuXxhcMq7xL3XyiEAcsQVEWVsMsg==\"\n",
        "client = CosmosClient(endpoint,key)\n",
        "database_name = 'todo_task_db'\n",
        "try:\n",
        "    database = client.create_database_if_not_exists(id=database_name)\n",
        "    print(\"database create\")\n",
        "except Exception as e:\n",
        "    print(\"error\",e)"
      ],
      "outputs": [],
      "execution_count": null,
      "metadata": {
        "collapsed": true,
        "jupyter": {
          "source_hidden": false,
          "outputs_hidden": false
        },
        "nteract": {
          "transient": {
            "deleting": false
          }
        }
      },
      "id": "26bad1eb-074d-4b26-bd2b-65c4f29eb5c5"
    },
    {
      "cell_type": "markdown",
      "source": [
        "# Creare a container and database if it does'nt exists"
      ],
      "metadata": {
        "nteract": {
          "transient": {
            "deleting": false
          }
        }
      },
      "id": "0d9f465a-5aa0-4a3f-9e85-099412a57362"
    },
    {
      "cell_type": "code",
      "source": [
        "#try:\n",
        "    container= database.create_container_if_not_exists(\n",
        "    id=\"todo_container\",\n",
        "    partition_key=\"userId\",\n",
        "    offer_throughput=400)\n",
        "except Exception as e:\n",
        "    print(e)    "
      ],
      "outputs": [],
      "execution_count": 5,
      "metadata": {
        "collapsed": true,
        "execution": {
          "iopub.execute_input": "2021-02-19T03:26:42.927Z",
          "iopub.status.busy": "2021-02-19T03:26:42.923Z",
          "iopub.status.idle": "2021-02-19T03:26:42.937Z",
          "shell.execute_reply": "2021-02-19T03:26:42.983Z"
        },
        "jupyter": {
          "outputs_hidden": false,
          "source_hidden": false
        },
        "nteract": {
          "transient": {
            "deleting": false
          }
        },
        "trusted": true
      },
      "id": "0fc65202-0aa6-4929-a76b-6cd2a8db12b2"
    },
    {
      "cell_type": "markdown",
      "source": [
        "# Select all document having todo_task as false"
      ],
      "metadata": {
        "nteract": {
          "transient": {
            "deleting": false
          }
        }
      },
      "id": "7bb0714d-aeec-4e9b-982c-ef938a0397da"
    },
    {
      "cell_type": "code",
      "source": [
        "query = \"SELECT c.userId,c.id FROM c WHERE c.userId IN (1) And c.completed = false\"\n",
        "\n",
        "items = list(container.query_items(\n",
        "    query=query,\n",
        "    enable_cross_partition_query=True\n",
        "))"
      ],
      "outputs": [],
      "execution_count": 6,
      "metadata": {
        "collapsed": true,
        "execution": {
          "iopub.execute_input": "2021-02-19T03:26:46.896Z",
          "iopub.status.busy": "2021-02-19T03:26:46.879Z",
          "iopub.status.idle": "2021-02-19T03:26:46.965Z",
          "shell.execute_reply": "2021-02-19T03:26:47.014Z"
        },
        "jupyter": {
          "outputs_hidden": false,
          "source_hidden": false
        },
        "nteract": {
          "transient": {
            "deleting": false
          }
        },
        "trusted": true
      },
      "id": "cb5a6739-4ddb-41cd-b8b1-a4a2c1b28597"
    },
    {
      "cell_type": "code",
      "source": [
        "print(items)"
      ],
      "outputs": [
        {
          "output_type": "stream",
          "name": "stdout",
          "text": [
            "[{'userId': 1, 'id': '18'}, {'userId': 1, 'id': '13'}, {'userId': 1, 'id': '9'}, {'userId': 1, 'id': '7'}, {'userId': 1, 'id': '6'}, {'userId': 1, 'id': '5'}, {'userId': 1, 'id': '1'}, {'userId': 1, 'id': '3'}, {'userId': 1, 'id': '2'}]\n"
          ]
        }
      ],
      "execution_count": 7,
      "metadata": {
        "collapsed": true,
        "execution": {
          "iopub.execute_input": "2021-02-19T03:26:49.781Z",
          "iopub.status.busy": "2021-02-19T03:26:49.777Z",
          "iopub.status.idle": "2021-02-19T03:26:49.813Z",
          "shell.execute_reply": "2021-02-19T03:26:49.853Z"
        },
        "jupyter": {
          "outputs_hidden": false,
          "source_hidden": false
        },
        "nteract": {
          "transient": {
            "deleting": false
          }
        },
        "trusted": true
      },
      "id": "867de502-a08f-442e-9a76-a9c14d134779"
    },
    {
      "cell_type": "markdown",
      "source": [
        "# Select document having completed= true and order them by thier userId"
      ],
      "metadata": {
        "nteract": {
          "transient": {
            "deleting": false
          }
        }
      },
      "id": "a7b7a59a-6b77-436e-856f-ab760495196f"
    },
    {
      "cell_type": "code",
      "source": [
        "query = \"SELECT c.userId,c.completed FROM c WHERE c.completed = true Order By c.userId\"\n",
        "items = list(container.query_items(\n",
        "    query=query,\n",
        "    enable_cross_partition_query=True\n",
        "))\n",
        "print(items)"
      ],
      "outputs": [
        {
          "output_type": "error",
          "ename": "NameError",
          "evalue": "name 'container' is not defined",
          "traceback": [
            "\u001b[0;31m---------------------------------------------------------------------------\u001b[0m",
            "\u001b[0;31mNameError\u001b[0m                                 Traceback (most recent call last)",
            "\u001b[0;32m<ipython-input-1-70b8dbfd8239>\u001b[0m in \u001b[0;36m<module>\u001b[0;34m\u001b[0m\n\u001b[1;32m      1\u001b[0m \u001b[0mquery\u001b[0m \u001b[0;34m=\u001b[0m \u001b[0;34m\"SELECT c.userId,c.completed FROM c WHERE c.completed = true Order By c.userId\"\u001b[0m\u001b[0;34m\u001b[0m\u001b[0;34m\u001b[0m\u001b[0m\n\u001b[0;32m----> 2\u001b[0;31m items = list(container.query_items(\n\u001b[0m\u001b[1;32m      3\u001b[0m     \u001b[0mquery\u001b[0m\u001b[0;34m=\u001b[0m\u001b[0mquery\u001b[0m\u001b[0;34m,\u001b[0m\u001b[0;34m\u001b[0m\u001b[0;34m\u001b[0m\u001b[0m\n\u001b[1;32m      4\u001b[0m     \u001b[0menable_cross_partition_query\u001b[0m\u001b[0;34m=\u001b[0m\u001b[0;32mTrue\u001b[0m\u001b[0;34m\u001b[0m\u001b[0;34m\u001b[0m\u001b[0m\n\u001b[1;32m      5\u001b[0m ))\n",
            "\u001b[0;31mNameError\u001b[0m: name 'container' is not defined"
          ]
        }
      ],
      "execution_count": 1,
      "metadata": {
        "collapsed": true,
        "execution": {
          "iopub.execute_input": "2021-02-19T03:51:52.942Z",
          "iopub.status.busy": "2021-02-19T03:51:52.900Z",
          "iopub.status.idle": "2021-02-19T03:26:51.661Z",
          "shell.execute_reply": "2021-02-19T03:26:51.667Z"
        },
        "jupyter": {
          "outputs_hidden": false,
          "source_hidden": false
        },
        "nteract": {
          "transient": {
            "deleting": false
          }
        },
        "trusted": true
      },
      "id": "80c2457e-9751-4148-a0fd-f9ed225786ca"
    },
    {
      "cell_type": "code",
      "source": [],
      "outputs": [],
      "execution_count": null,
      "metadata": {
        "collapsed": true,
        "jupyter": {
          "outputs_hidden": false,
          "source_hidden": false
        },
        "nteract": {
          "transient": {
            "deleting": false
          }
        },
        "trusted": true
      },
      "id": "a63fca1d-b164-4b45-8889-17834f0b56ef"
    }
  ],
  "metadata": {
    "language_info": {
      "name": "python",
      "version": "3.7",
      "mimetype": "application/json",
      "file_extension": "ipynb"
    },
    "nteract": {
      "version": "dataExplorer 1.0"
    }
  },
  "nbformat": 4,
  "nbformat_minor": 5
}