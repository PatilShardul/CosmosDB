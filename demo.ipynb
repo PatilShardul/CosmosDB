{
 "cells": [
  {
   "cell_type": "code",
   "execution_count": 2,
   "metadata": {},
   "outputs": [],
   "source": [
    "import pymongo as pm\n",
    "import json as js\n",
    "import requests\n",
    "import pandas  as pd"
   ]
  },
  {
   "cell_type": "code",
   "execution_count": 3,
   "metadata": {},
   "outputs": [],
   "source": [
    "my_client = pm.MongoClient(\"<your mongodb cllient connection string>")\n",
    "mydb = my_client[\"employeesdb\"]\n",
    "mycol = mydb[\"employee\"]"
   ]
  },
  {
   "cell_type": "code",
   "execution_count": 6,
   "metadata": {},
   "outputs": [
    {
     "name": "stdout",
     "output_type": "stream",
     "text": [
      "[{'userId': 1, 'id': 1, 'title': 'delectus aut autem', 'completed': False}]\n"
     ]
    }
   ],
   "source": [
    "js_request = requests.get(\"https://jsonplaceholder.typicode.com/todos\")\n",
    "todos = js_request.json()\n",
    "print(todos[:1])"
   ]
  },
  {
   "cell_type": "code",
   "execution_count": 7,
   "metadata": {},
   "outputs": [
    {
     "data": {
      "text/plain": [
       "<pymongo.results.InsertManyResult at 0x7fba50380840>"
      ]
     },
     "execution_count": 7,
     "metadata": {},
     "output_type": "execute_result"
    }
   ],
   "source": [
    "mycol.insert_many(todos)"
   ]
  },
  {
   "cell_type": "code",
   "execution_count": 8,
   "metadata": {},
   "outputs": [
    {
     "name": "stdout",
     "output_type": "stream",
     "text": [
      "{'_id': ObjectId('602d2c1b38f1c98fd3107c27'), 'userId': 6, 'id': 113, 'title': 'Read', 'completed': False}\n",
      "{'_id': ObjectId('602df4ff910d2d045c49c435'), 'userId': 6, 'id': 113, 'title': 'quia atque aliquam sunt impedit voluptatum rerum assumenda nisi', 'completed': False}\n"
     ]
    }
   ],
   "source": [
    "for todo in mycol.find({\"id\":113}):\n",
    "    print(todo)"
   ]
  },
  {
   "cell_type": "code",
   "execution_count": 20,
   "metadata": {},
   "outputs": [
    {
     "data": {
      "text/plain": [
       "1"
      ]
     },
     "execution_count": 20,
     "metadata": {},
     "output_type": "execute_result"
    }
   ],
   "source": [
    "mycol.count_documents({\"title\": \"dolorem dolore est ipsam\"})"
   ]
  },
  {
   "cell_type": "code",
   "execution_count": 65,
   "metadata": {},
   "outputs": [
    {
     "data": {
      "text/plain": [
       "<pymongo.results.UpdateResult at 0x7f57f449b8c0>"
      ]
     },
     "execution_count": 65,
     "metadata": {},
     "output_type": "execute_result"
    }
   ],
   "source": [
    "mycol.update_one({\"userId\":6,\"id\":113},{ \"$set\" : {\"title\":\"Read\"}})"
   ]
  },
  {
   "cell_type": "code",
   "execution_count": 28,
   "metadata": {},
   "outputs": [
    {
     "data": {
      "text/plain": [
       "<pymongo.results.DeleteResult at 0x7f57e4e32100>"
      ]
     },
     "execution_count": 28,
     "metadata": {},
     "output_type": "execute_result"
    }
   ],
   "source": [
    "mycol.delete_one({\"title\":\"Deep Work by carl newport\"})"
   ]
  },
  {
   "cell_type": "code",
   "execution_count": 10,
   "metadata": {},
   "outputs": [
    {
     "name": "stdout",
     "output_type": "stream",
     "text": [
      "{'_id': 1, 'task to do': 18}\n",
      "{'_id': 2, 'task to do': 24}\n",
      "{'_id': 3, 'task to do': 26}\n",
      "{'_id': 4, 'task to do': 28}\n",
      "{'_id': 5, 'task to do': 16}\n",
      "{'_id': 6, 'task to do': 28}\n",
      "{'_id': 7, 'task to do': 22}\n",
      "{'_id': 8, 'task to do': 18}\n",
      "{'_id': 9, 'task to do': 24}\n",
      "{'_id': 10, 'task to do': 16}\n"
     ]
    }
   ],
   "source": [
    "try:\n",
    "    todo_remaining = mycol.aggregate([\n",
    "        {\n",
    "            \"$match\":\n",
    "            { \n",
    "                \"completed\" : False \n",
    "            }\n",
    "        },\n",
    "        {\n",
    "            \"$group\": {\n",
    "                \"_id\":\"$userId\",\n",
    "                \"task to do\":{\"$sum\":1}\n",
    "                }\n",
    "        }\n",
    "    ])\n",
    "except Exception as e:\n",
    "    print(e)\n",
    "    \n",
    "for i in todo_remaining:\n",
    "    print(i)"
   ]
  },
  {
   "cell_type": "code",
   "execution_count": null,
   "metadata": {},
   "outputs": [],
   "source": []
  }
 ],
 "metadata": {
  "kernelspec": {
   "display_name": "Python 3",
   "language": "python",
   "name": "python3"
  },
  "language_info": {
   "codemirror_mode": {
    "name": "ipython",
    "version": 3
   },
   "file_extension": ".py",
   "mimetype": "text/x-python",
   "name": "python",
   "nbconvert_exporter": "python",
   "pygments_lexer": "ipython3",
   "version": "3.8.5"
  }
 },
 "nbformat": 4,
 "nbformat_minor": 4
}
